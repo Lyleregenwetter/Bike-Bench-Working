{
 "cells": [
  {
   "cell_type": "code",
   "execution_count": 1,
   "id": "f43f23b9",
   "metadata": {},
   "outputs": [
    {
     "name": "stderr",
     "output_type": "stream",
     "text": [
      "c:\\Users\\Lyler\\mambaforge\\envs\\torch\\Lib\\site-packages\\tqdm\\auto.py:21: TqdmWarning: IProgress not found. Please update jupyter and ipywidgets. See https://ipywidgets.readthedocs.io/en/stable/user_install.html\n",
      "  from .autonotebook import tqdm as notebook_tqdm\n"
     ]
    }
   ],
   "source": [
    "import pandas as pd\n",
    "import numpy as np\n",
    "import torch\n",
    "import os\n",
    "import sys\n",
    "from tqdm import tqdm, trange\n",
    "\n",
    "sys.path.append(\"../../\")\n",
    "import biked_commons\n",
    "from biked_commons.design_evaluation.design_evaluation import *\n",
    "from biked_commons.data_loading import data_loading\n",
    "from biked_commons.conditioning import conditioning\n",
    "from biked_commons.design_evaluation.scoring import *"
   ]
  },
  {
   "cell_type": "code",
   "execution_count": 2,
   "id": "1d9cef99",
   "metadata": {},
   "outputs": [],
   "source": [
    "device = torch.device(\"cuda:0\" if torch.cuda.is_available() else \"cpu\")\n",
    "# device = torch.device(\"cpu\")  \n",
    "\n",
    "data = data_loading.load_bike_bench_train()\n",
    "\n",
    "data_tens = torch.tensor(data.values, dtype=torch.float32, device=device)\n"
   ]
  },
  {
   "cell_type": "code",
   "execution_count": 3,
   "id": "3d820086",
   "metadata": {},
   "outputs": [],
   "source": [
    "evaluator, requirement_names, requirement_types = construct_tensor_evaluator(get_standard_evaluations(device), data.columns)"
   ]
  },
  {
   "cell_type": "code",
   "execution_count": 4,
   "id": "cb55564f",
   "metadata": {},
   "outputs": [],
   "source": [
    "# num_data = data.shape[0]\n",
    "num_data = 1\n",
    "rider_condition = conditioning.sample_riders(num_data, split=\"test\")\n",
    "use_case_condition = conditioning.sample_use_case(num_data, split=\"test\")\n",
    "text_condition = conditioning.sample_text(num_data, split=\"test\")\n",
    "image_embeddings = conditioning.sample_image_embedding(num_data, split=\"test\")\n",
    "condition = {\"Rider\": rider_condition, \"Use Case\": use_case_condition, \"Embedding\": image_embeddings}\n",
    "# condition = {\"Rider\": rider_condition, \"Use Case\": use_case_condition, \"Text\": text_condition}"
   ]
  },
  {
   "cell_type": "code",
   "execution_count": 5,
   "id": "51000099",
   "metadata": {},
   "outputs": [],
   "source": [
    "#calcualte gradient of scores wrt data_tens\n",
    "\n",
    "data_tens.requires_grad = True\n",
    "eval_scores = evaluator(data_tens, condition)\n",
    "score_sum = eval_scores.sum()\n",
    "score_sum.backward()\n"
   ]
  },
  {
   "cell_type": "code",
   "execution_count": 6,
   "id": "b481ff23",
   "metadata": {},
   "outputs": [],
   "source": [
    "#check for infs and nans in data_tens\n",
    "if torch.any(torch.isnan(data_tens)) or torch.any(torch.isinf(data_tens)):\n",
    "    print(\"Data tensor contains NaN or Inf values.\")"
   ]
  },
  {
   "cell_type": "code",
   "execution_count": 7,
   "id": "4f9222ca",
   "metadata": {},
   "outputs": [
    {
     "name": "stdout",
     "output_type": "stream",
     "text": [
      "nan indices:  (tensor([], device='cuda:0', dtype=torch.int64), tensor([], device='cuda:0', dtype=torch.int64))\n"
     ]
    }
   ],
   "source": [
    "#get nan indices of data_tens.grad\n",
    "nan_indices = torch.isnan(data_tens.grad).nonzero(as_tuple=True)\n",
    "print(\"nan indices: \", nan_indices)"
   ]
  },
  {
   "cell_type": "code",
   "execution_count": 8,
   "id": "55b4822f",
   "metadata": {},
   "outputs": [],
   "source": [
    "isobjective = torch.tensor(requirement_types) == 1\n",
    "isobjective = isobjective.to(device)\n",
    "objective_scores = eval_scores[:, isobjective].detach().cpu().numpy()\n",
    "# constraint_scores = eval_scores[:, ~isobjective].detach().numpy()"
   ]
  },
  {
   "cell_type": "code",
   "execution_count": 9,
   "id": "437801e5",
   "metadata": {},
   "outputs": [],
   "source": [
    "main_scorer = construct_scorer(MainScores, get_standard_evaluations(device), data.columns, device)\n",
    "detailed_scorer = construct_scorer(DetailedScores, get_standard_evaluations(device), data.columns, device)"
   ]
  },
  {
   "cell_type": "code",
   "execution_count": 10,
   "id": "4edf1378",
   "metadata": {},
   "outputs": [
    {
     "data": {
      "text/plain": [
       "Hypervolume                     0.251551\n",
       "Constraint Satisfaction Rate    0.030000\n",
       "Maximum Mean Discrepancy        0.000581\n",
       "dtype: float64"
      ]
     },
     "execution_count": 10,
     "metadata": {},
     "output_type": "execute_result"
    }
   ],
   "source": [
    "main_scorer(data_tens.detach(), condition)"
   ]
  },
  {
   "cell_type": "code",
   "execution_count": 11,
   "id": "0b744718",
   "metadata": {},
   "outputs": [
    {
     "data": {
      "text/plain": [
       "Min Objective Score: Usability Score - 0 to 1                                                                0.219893\n",
       "Min Objective Score: Drag Force                                                                              8.979135\n",
       "Min Objective Score: Knee Angle Error                                                                        0.000000\n",
       "Min Objective Score: Hip Angle Error                                                                         9.419733\n",
       "Min Objective Score: Arm Angle Error                                                                         0.000000\n",
       "Min Objective Score: Cosine Distance to Embedding                                                            0.000178\n",
       "Min Objective Score: Mass                                                                                    2.250693\n",
       "Min Objective Score: Planar Compliance                                                                       0.000000\n",
       "Min Objective Score: Transverse Compliance                                                                   0.000000\n",
       "Min Objective Score: Eccentric Compliance                                                                    0.000000\n",
       "Mean Objective Score: Usability Score - 0 to 1                                                               0.559676\n",
       "Mean Objective Score: Drag Force                                                                            20.590584\n",
       "Mean Objective Score: Knee Angle Error                                                                      46.474728\n",
       "Mean Objective Score: Hip Angle Error                                                                       52.218296\n",
       "Mean Objective Score: Arm Angle Error                                                                       84.585938\n",
       "Mean Objective Score: Cosine Distance to Embedding                                                           0.003780\n",
       "Mean Objective Score: Mass                                                                                   9.705339\n",
       "Mean Objective Score: Planar Compliance                                                                      0.151885\n",
       "Mean Objective Score: Transverse Compliance                                                                  0.434693\n",
       "Mean Objective Score: Eccentric Compliance                                                                   0.469581\n",
       "Constraint Violation Rate: Planar Safety Factor                                                              0.957778\n",
       "Constraint Violation Rate: Eccentric Safety Factor                                                           0.842778\n",
       "Constraint Violation Rate: Saddle height too small                                                           0.011389\n",
       "Constraint Violation Rate: Seat post too short                                                               0.027778\n",
       "Constraint Violation Rate: Head tube lower extension too great                                               0.001667\n",
       "Constraint Violation Rate: Head tube length too great                                                        0.020833\n",
       "Constraint Violation Rate: Certain parameters must be positive                                               0.006944\n",
       "Constraint Violation Rate: Chain stay should be greater than wheel radius                                    0.000556\n",
       "Constraint Violation Rate: Chain stay should be greater than BB                                              0.000000\n",
       "Constraint Violation Rate: Seat stay should be greater than wheel radius                                     0.002500\n",
       "Constraint Violation Rate: Down tube must reach head tube                                                    0.000000\n",
       "Constraint Violation Rate: The pedal shouldn't intersect the front wheel                                     0.028333\n",
       "Constraint Violation Rate: The crank shouldn't hit the ground when it is in its lower position               0.001667\n",
       "Constraint Violation Rate: RGB value should be less than 255                                                 0.000000\n",
       "Constraint Violation Rate: Predicted Frame Validity                                                          0.013889\n",
       "Mean Constraint Violation Magnitude: Planar Safety Factor                                                    0.870977\n",
       "Mean Constraint Violation Magnitude: Eccentric Safety Factor                                                 0.547958\n",
       "Mean Constraint Violation Magnitude: Saddle height too small                                                 0.597083\n",
       "Mean Constraint Violation Magnitude: Seat post too short                                                     2.017472\n",
       "Mean Constraint Violation Magnitude: Head tube lower extension too great                                     0.018472\n",
       "Mean Constraint Violation Magnitude: Head tube length too great                                              0.621444\n",
       "Mean Constraint Violation Magnitude: Certain parameters must be positive                                     0.335005\n",
       "Mean Constraint Violation Magnitude: Chain stay should be greater than wheel radius                          0.169722\n",
       "Mean Constraint Violation Magnitude: Chain stay should be greater than BB                                    0.000000\n",
       "Mean Constraint Violation Magnitude: Seat stay should be greater than wheel radius                           0.115754\n",
       "Mean Constraint Violation Magnitude: Down tube must reach head tube                                          0.000000\n",
       "Mean Constraint Violation Magnitude: The pedal shouldn't intersect the front wheel                           0.509066\n",
       "Mean Constraint Violation Magnitude: The crank shouldn't hit the ground when it is in its lower position     0.039028\n",
       "Mean Constraint Violation Magnitude: RGB value should be less than 255                                       0.000000\n",
       "Mean Constraint Violation Magnitude: Predicted Frame Validity                                                0.006622\n",
       "dtype: float64"
      ]
     },
     "execution_count": 11,
     "metadata": {},
     "output_type": "execute_result"
    }
   ],
   "source": [
    "detailed_scorer(data_tens.detach(), condition)"
   ]
  },
  {
   "cell_type": "code",
   "execution_count": null,
   "id": "3cad99d4",
   "metadata": {},
   "outputs": [],
   "source": []
  }
 ],
 "metadata": {
  "kernelspec": {
   "display_name": "torch",
   "language": "python",
   "name": "python3"
  },
  "language_info": {
   "codemirror_mode": {
    "name": "ipython",
    "version": 3
   },
   "file_extension": ".py",
   "mimetype": "text/x-python",
   "name": "python",
   "nbconvert_exporter": "python",
   "pygments_lexer": "ipython3",
   "version": "3.12.8"
  }
 },
 "nbformat": 4,
 "nbformat_minor": 5
}
