{
 "cells": [
  {
   "cell_type": "code",
   "execution_count": null,
   "id": "ce76eb4c",
   "metadata": {},
   "outputs": [
    {
     "name": "stdout",
     "output_type": "stream",
     "text": [
      "Using java as the Java binary\n"
     ]
    },
    {
     "name": "stderr",
     "output_type": "stream",
     "text": [
      "/home/mileva/mambaforge/envs/torch/lib/python3.12/site-packages/tqdm/auto.py:21: TqdmWarning: IProgress not found. Please update jupyter and ipywidgets. See https://ipywidgets.readthedocs.io/en/stable/user_install.html\n",
      "  from .autonotebook import tqdm as notebook_tqdm\n"
     ]
    }
   ],
   "source": [
    "import logging\n",
    "import os.path\n",
    "import time\n",
    "from concurrent.futures.process import ProcessPoolExecutor\n",
    "from concurrent.futures.thread import ThreadPoolExecutor\n",
    "from typing import Dict\n",
    "import sys\n",
    "import pandas as pd\n",
    "\n",
    "sys.path.append(\"../../\")\n",
    "import biked_commons\n",
    "\n",
    "from biked_commons.api.rendering import RenderingEngine, FILE_BUILDER\n",
    "from biked_commons.resource_utils import resource_path, STANDARD_BIKE_RESOURCE\n",
    "from biked_commons.embedding.dataset_rendering_tools import *\n",
    "\n",
    "import shutil\n",
    "\n",
    "# Configure the logging\n",
    "# logging.basicConfig(level=logging.DEBUG,  # Set the logging level to DEBUG\n",
    "#                     format='%(asctime)s - %(levelname)s - %(message)s')  # Customize the log format"
   ]
  },
  {
   "cell_type": "code",
   "execution_count": 2,
   "id": "3361eebb",
   "metadata": {},
   "outputs": [],
   "source": [
    "process_pool_workers = 18\n",
    "number_servers = 18\n",
    "thread_pool_workers = 18\n",
    "\n",
    "rendering_engine = RenderingEngine(number_rendering_servers=number_servers, server_init_timeout_seconds=60)"
   ]
  },
  {
   "cell_type": "code",
   "execution_count": 3,
   "id": "788d0d17",
   "metadata": {},
   "outputs": [],
   "source": [
    "# dir = resource_path(\"bike_bench_rendering\")\n",
    "# xml_dir = os.path.join(dir, \"xml\")\n",
    "# svg_dir = os.path.join(dir, \"svgs\")\n",
    "# png_dir = os.path.join(dir, \"pngs\")\n",
    "# emb_file = os.path.join(dir, \"embeddings.csv\")\n",
    "\n",
    "# records = get_bike_bench_records_with_id(num=None)\n",
    "\n",
    "# process_rendering_stack(records = records,\n",
    "#                         xml_dir=xml_dir,\n",
    "#                         svg_dir=svg_dir,\n",
    "#                         png_dir=png_dir,\n",
    "#                         emb_file=emb_file,\n",
    "#                         rendering_engine=rendering_engine,\n",
    "#                         process_pool_workers=process_pool_workers,\n",
    "#                         thread_pool_workers=thread_pool_workers)"
   ]
  },
  {
   "cell_type": "code",
   "execution_count": null,
   "id": "aa0ea831",
   "metadata": {},
   "outputs": [
    {
     "name": "stdout",
     "output_type": "stream",
     "text": [
      "Skipping rendering for /home/mileva/Documents/Lyle/biked-commons/src/biked_commons/bike_embedding/../../biked_commons/../resources/synthetic_data_rendering/embeddings/0.csv as it already exists.\n",
      "Skipping rendering for /home/mileva/Documents/Lyle/biked-commons/src/biked_commons/bike_embedding/../../biked_commons/../resources/synthetic_data_rendering/embeddings/1.csv as it already exists.\n",
      "Skipping rendering for /home/mileva/Documents/Lyle/biked-commons/src/biked_commons/bike_embedding/../../biked_commons/../resources/synthetic_data_rendering/embeddings/2.csv as it already exists.\n",
      "Skipping rendering for /home/mileva/Documents/Lyle/biked-commons/src/biked_commons/bike_embedding/../../biked_commons/../resources/synthetic_data_rendering/embeddings/3.csv as it already exists.\n",
      "Skipping rendering for /home/mileva/Documents/Lyle/biked-commons/src/biked_commons/bike_embedding/../../biked_commons/../resources/synthetic_data_rendering/embeddings/4.csv as it already exists.\n",
      "Skipping rendering for /home/mileva/Documents/Lyle/biked-commons/src/biked_commons/bike_embedding/../../biked_commons/../resources/synthetic_data_rendering/embeddings/5.csv as it already exists.\n",
      "Skipping rendering for /home/mileva/Documents/Lyle/biked-commons/src/biked_commons/bike_embedding/../../biked_commons/../resources/synthetic_data_rendering/embeddings/6.csv as it already exists.\n",
      "Skipping rendering for /home/mileva/Documents/Lyle/biked-commons/src/biked_commons/bike_embedding/../../biked_commons/../resources/synthetic_data_rendering/embeddings/7.csv as it already exists.\n",
      "Skipping rendering for /home/mileva/Documents/Lyle/biked-commons/src/biked_commons/bike_embedding/../../biked_commons/../resources/synthetic_data_rendering/embeddings/8.csv as it already exists.\n",
      "Skipping rendering for /home/mileva/Documents/Lyle/biked-commons/src/biked_commons/bike_embedding/../../biked_commons/../resources/synthetic_data_rendering/embeddings/9.csv as it already exists.\n",
      "Skipping rendering for /home/mileva/Documents/Lyle/biked-commons/src/biked_commons/bike_embedding/../../biked_commons/../resources/synthetic_data_rendering/embeddings/10.csv as it already exists.\n",
      "Skipping rendering for /home/mileva/Documents/Lyle/biked-commons/src/biked_commons/bike_embedding/../../biked_commons/../resources/synthetic_data_rendering/embeddings/11.csv as it already exists.\n",
      "Skipping rendering for /home/mileva/Documents/Lyle/biked-commons/src/biked_commons/bike_embedding/../../biked_commons/../resources/synthetic_data_rendering/embeddings/12.csv as it already exists.\n",
      "Skipping rendering for /home/mileva/Documents/Lyle/biked-commons/src/biked_commons/bike_embedding/../../biked_commons/../resources/synthetic_data_rendering/embeddings/13.csv as it already exists.\n",
      "Skipping rendering for /home/mileva/Documents/Lyle/biked-commons/src/biked_commons/bike_embedding/../../biked_commons/../resources/synthetic_data_rendering/embeddings/14.csv as it already exists.\n",
      "Skipping rendering for /home/mileva/Documents/Lyle/biked-commons/src/biked_commons/bike_embedding/../../biked_commons/../resources/synthetic_data_rendering/embeddings/15.csv as it already exists.\n",
      "Skipping rendering for /home/mileva/Documents/Lyle/biked-commons/src/biked_commons/bike_embedding/../../biked_commons/../resources/synthetic_data_rendering/embeddings/16.csv as it already exists.\n",
      "Skipping rendering for /home/mileva/Documents/Lyle/biked-commons/src/biked_commons/bike_embedding/../../biked_commons/../resources/synthetic_data_rendering/embeddings/17.csv as it already exists.\n",
      "Skipping rendering for /home/mileva/Documents/Lyle/biked-commons/src/biked_commons/bike_embedding/../../biked_commons/../resources/synthetic_data_rendering/embeddings/18.csv as it already exists.\n",
      "Skipping rendering for /home/mileva/Documents/Lyle/biked-commons/src/biked_commons/bike_embedding/../../biked_commons/../resources/synthetic_data_rendering/embeddings/19.csv as it already exists.\n",
      "Skipping rendering for /home/mileva/Documents/Lyle/biked-commons/src/biked_commons/bike_embedding/../../biked_commons/../resources/synthetic_data_rendering/embeddings/20.csv as it already exists.\n",
      "Skipping rendering for /home/mileva/Documents/Lyle/biked-commons/src/biked_commons/bike_embedding/../../biked_commons/../resources/synthetic_data_rendering/embeddings/21.csv as it already exists.\n",
      "Skipping rendering for /home/mileva/Documents/Lyle/biked-commons/src/biked_commons/bike_embedding/../../biked_commons/../resources/synthetic_data_rendering/embeddings/22.csv as it already exists.\n",
      "Skipping rendering for /home/mileva/Documents/Lyle/biked-commons/src/biked_commons/bike_embedding/../../biked_commons/../resources/synthetic_data_rendering/embeddings/23.csv as it already exists.\n",
      "Skipping rendering for /home/mileva/Documents/Lyle/biked-commons/src/biked_commons/bike_embedding/../../biked_commons/../resources/synthetic_data_rendering/embeddings/24.csv as it already exists.\n",
      "Skipping rendering for /home/mileva/Documents/Lyle/biked-commons/src/biked_commons/bike_embedding/../../biked_commons/../resources/synthetic_data_rendering/embeddings/25.csv as it already exists.\n",
      "Skipping rendering for /home/mileva/Documents/Lyle/biked-commons/src/biked_commons/bike_embedding/../../biked_commons/../resources/synthetic_data_rendering/embeddings/26.csv as it already exists.\n",
      "Skipping rendering for /home/mileva/Documents/Lyle/biked-commons/src/biked_commons/bike_embedding/../../biked_commons/../resources/synthetic_data_rendering/embeddings/27.csv as it already exists.\n",
      "Skipping rendering for /home/mileva/Documents/Lyle/biked-commons/src/biked_commons/bike_embedding/../../biked_commons/../resources/synthetic_data_rendering/embeddings/28.csv as it already exists.\n",
      "Skipping rendering for /home/mileva/Documents/Lyle/biked-commons/src/biked_commons/bike_embedding/../../biked_commons/../resources/synthetic_data_rendering/embeddings/29.csv as it already exists.\n",
      "Skipping rendering for /home/mileva/Documents/Lyle/biked-commons/src/biked_commons/bike_embedding/../../biked_commons/../resources/synthetic_data_rendering/embeddings/30.csv as it already exists.\n",
      "Skipping rendering for /home/mileva/Documents/Lyle/biked-commons/src/biked_commons/bike_embedding/../../biked_commons/../resources/synthetic_data_rendering/embeddings/31.csv as it already exists.\n",
      "Skipping rendering for /home/mileva/Documents/Lyle/biked-commons/src/biked_commons/bike_embedding/../../biked_commons/../resources/synthetic_data_rendering/embeddings/32.csv as it already exists.\n",
      "Skipping rendering for /home/mileva/Documents/Lyle/biked-commons/src/biked_commons/bike_embedding/../../biked_commons/../resources/synthetic_data_rendering/embeddings/33.csv as it already exists.\n",
      "XMLs created\n",
      "SVGs created\n",
      "PNGs created\n"
     ]
    }
   ],
   "source": [
    "dir = resource_path(\"synthetic_data_rendering\")\n",
    "for i in range(256):\n",
    "\n",
    "    stridx = str(i)\n",
    "    xml_dir = os.path.join(dir, \"xml\", stridx)\n",
    "    svg_dir = os.path.join(dir, \"svgs\", stridx)\n",
    "    png_dir = os.path.join(dir, \"pngs\", stridx)\n",
    "    emb_dir = os.path.join(dir, \"embeddings\")\n",
    "    emb_file = os.path.join(emb_dir, f\"{stridx}.csv\")\n",
    "    designs_dir = os.path.join(dir, \"designs\")\n",
    "    designs_file = os.path.join(designs_dir, f\"{stridx}.csv\")\n",
    "\n",
    "    if os.path.exists(emb_file):\n",
    "        print(f\"Skipping rendering for {emb_file} as it already exists.\")\n",
    "        continue\n",
    "\n",
    "    os.makedirs(emb_dir, exist_ok=True)\n",
    "    os.makedirs(designs_dir, exist_ok=True)\n",
    "\n",
    "    records = sample_save_n_records(designs_file, 4096)\n",
    "\n",
    "    process_rendering_stack(records = records,\n",
    "                            xml_dir=xml_dir,\n",
    "                            svg_dir=svg_dir,\n",
    "                            png_dir=png_dir,\n",
    "                            emb_file=emb_file,\n",
    "                            rendering_engine=rendering_engine,\n",
    "                            process_pool_workers=process_pool_workers,\n",
    "                            thread_pool_workers=thread_pool_workers)\n"
   ]
  },
  {
   "cell_type": "code",
   "execution_count": null,
   "id": "be2fead9",
   "metadata": {},
   "outputs": [],
   "source": []
  }
 ],
 "metadata": {
  "kernelspec": {
   "display_name": "torch",
   "language": "python",
   "name": "python3"
  },
  "language_info": {
   "codemirror_mode": {
    "name": "ipython",
    "version": 3
   },
   "file_extension": ".py",
   "mimetype": "text/x-python",
   "name": "python",
   "nbconvert_exporter": "python",
   "pygments_lexer": "ipython3",
   "version": "3.12.3"
  }
 },
 "nbformat": 4,
 "nbformat_minor": 5
}
