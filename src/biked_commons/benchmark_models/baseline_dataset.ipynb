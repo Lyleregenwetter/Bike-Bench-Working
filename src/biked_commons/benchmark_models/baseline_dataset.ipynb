{
 "cells": [
  {
   "cell_type": "code",
   "execution_count": 1,
   "id": "4505aaf9",
   "metadata": {},
   "outputs": [
    {
     "name": "stderr",
     "output_type": "stream",
     "text": [
      "c:\\Users\\Lyler\\mambaforge\\envs\\torch\\Lib\\site-packages\\tqdm\\auto.py:21: TqdmWarning: IProgress not found. Please update jupyter and ipywidgets. See https://ipywidgets.readthedocs.io/en/stable/user_install.html\n",
      "  from .autonotebook import tqdm as notebook_tqdm\n"
     ]
    }
   ],
   "source": [
    "import pandas as pd\n",
    "import numpy as np\n",
    "import sys\n",
    "import torch\n",
    "\n",
    "sys.path.append(\"../../\")\n",
    "from biked_commons.data_loading import data_loading\n",
    "from biked_commons.benchmark_models import generative_modeling_utils, benchmarking_utils"
   ]
  },
  {
   "cell_type": "code",
   "execution_count": null,
   "id": "a0514b52",
   "metadata": {},
   "outputs": [],
   "source": [
    "data = data_loading.load_bike_bench_train()\n",
    "save_scores = False"
   ]
  },
  {
   "cell_type": "code",
   "execution_count": 3,
   "id": "730f34c9",
   "metadata": {},
   "outputs": [],
   "source": [
    "sampled_data = data.sample(n=10000, replace=True, random_state=42)\n",
    "data_tens = torch.tensor(sampled_data.values, dtype=torch.float32)\n",
    "main_scores, detailed_scores = benchmarking_utils.evaluate_cond(data_tens, \"Dataset\", data.columns, device=\"cpu\", save=save_scores)"
   ]
  },
  {
   "cell_type": "code",
   "execution_count": 4,
   "id": "2c9c0167",
   "metadata": {},
   "outputs": [],
   "source": [
    "for i in range(10):\n",
    "    sampled_data = data.sample(n=1000, replace=True, random_state=42)\n",
    "    data_tens = torch.tensor(sampled_data.values, dtype=torch.float32)\n",
    "    main_scores, detailed_scores = benchmarking_utils.evaluate_uncond(data_tens, \"Dataset\", i, data.columns, device=\"cpu\", save=save_scores)"
   ]
  },
  {
   "cell_type": "code",
   "execution_count": null,
   "id": "97311500",
   "metadata": {},
   "outputs": [],
   "source": []
  }
 ],
 "metadata": {
  "kernelspec": {
   "display_name": "torch",
   "language": "python",
   "name": "python3"
  },
  "language_info": {
   "codemirror_mode": {
    "name": "ipython",
    "version": 3
   },
   "file_extension": ".py",
   "mimetype": "text/x-python",
   "name": "python",
   "nbconvert_exporter": "python",
   "pygments_lexer": "ipython3",
   "version": "3.12.8"
  }
 },
 "nbformat": 4,
 "nbformat_minor": 5
}
