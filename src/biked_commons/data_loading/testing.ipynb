{
 "cells": [
  {
   "cell_type": "code",
   "execution_count": 1,
   "id": "66adf077",
   "metadata": {},
   "outputs": [],
   "source": [
    "import pandas as pd\n",
    "import numpy as np\n",
    "import torch\n",
    "import os\n",
    "from tqdm import tqdm\n",
    "import sys\n",
    "sys.path.append(\"../../\")\n",
    "import biked_commons\n",
    "\n",
    "from biked_commons.data_loading.data_loading import *"
   ]
  },
  {
   "cell_type": "code",
   "execution_count": 2,
   "id": "f721280b",
   "metadata": {},
   "outputs": [
    {
     "name": "stdout",
     "output_type": "stream",
     "text": [
      "▶ Testing Predictive Modeling Dataset Loaders\n",
      "⏳ Testing aero_train...\n",
      "✅ aero_train: X shape = (3200, 11), Y shape = (3200, 1)\n",
      "⏳ Testing aero_test...\n",
      "✅ aero_test: X shape = (800, 11), Y shape = (800, 1)\n",
      "⏳ Testing structure_train...\n",
      "✅ structure_train: X shape = (11880, 37), Y shape = (11880, 6)\n",
      "⏳ Testing structure_test...\n",
      "✅ structure_test: X shape = (2971, 37), Y shape = (2971, 6)\n",
      "⏳ Testing validity_train...\n",
      "✅ validity_train: X shape = (12077, 37), Y shape = (12077, 1)\n",
      "⏳ Testing validity_test...\n",
      "✅ validity_test: X shape = (3020, 37), Y shape = (3020, 1)\n",
      "⏳ Testing usability_cont_train...\n",
      "✅ usability_cont_train: X shape = (160, 3), Y shape = (160, 1)\n",
      "⏳ Testing usability_cont_test...\n",
      "✅ usability_cont_test: X shape = (40, 3), Y shape = (40, 1)\n",
      "⏳ Testing clip_train...\n",
      "✅ clip_train: X shape = (1400821, 90), Y shape = (1400821, 512)\n",
      "⏳ Testing clip_test...\n",
      "✅ clip_test: X shape = (4497, 90), Y shape = (4497, 512)\n",
      "⏳ Testing bike_bench_train...\n",
      "✅ bike_bench_train: DataFrame shape = (3600, 90)\n",
      "⏳ Testing bike_bench_test...\n",
      "✅ bike_bench_test: DataFrame shape = (900, 90)\n",
      "⏳ Testing bike_bench_mixed_modality_train...\n",
      "✅ bike_bench_mixed_modality_train: DataFrame shape = (3600, 70)\n",
      "⏳ Testing bike_bench_mixed_modality_test...\n",
      "✅ bike_bench_mixed_modality_test: DataFrame shape = (900, 70)\n"
     ]
    }
   ],
   "source": [
    "# Run this in a notebook cell after defining or importing all functions from unified_loader\n",
    "\n",
    "def test_all_dataloaders_direct():\n",
    "    print(\"▶ Testing Predictive Modeling Dataset Loaders\")\n",
    "\n",
    "    # Each tuple: (name, callable)\n",
    "    loaders = [\n",
    "        (\"aero_train\", load_aero_train),\n",
    "        (\"aero_test\", load_aero_test),\n",
    "        (\"structure_train\", load_structure_train),\n",
    "        (\"structure_test\", load_structure_test),\n",
    "        (\"validity_train\", load_validity_train),\n",
    "        (\"validity_test\", load_validity_test),\n",
    "        (\"usability_cont_train\", load_usability_cont_train),\n",
    "        (\"usability_cont_test\", load_usability_cont_test),\n",
    "        (\"clip_train\", load_clip_train),\n",
    "        (\"clip_test\", load_clip_test),\n",
    "        (\"bike_bench_train\", load_bike_bench_train),\n",
    "        (\"bike_bench_test\", load_bike_bench_test),\n",
    "        (\"bike_bench_mixed_modality_train\", load_bike_bench_mixed_modality_train),\n",
    "        (\"bike_bench_mixed_modality_test\", load_bike_bench_mixed_modality_test),\n",
    "    ]\n",
    "\n",
    "    for name, func in loaders:\n",
    "        print(f\"⏳ Testing {name}...\")\n",
    "        try:\n",
    "            result = func()\n",
    "            if isinstance(result, tuple):\n",
    "                X, Y = result\n",
    "                print(f\"✅ {name}: X shape = {X.shape}, Y shape = {Y.shape}\")\n",
    "            else:\n",
    "                print(f\"✅ {name}: DataFrame shape = {result.shape}\")\n",
    "        except Exception as e:\n",
    "            print(f\"❌ {name}: {e}\")\n",
    "\n",
    "# Call it\n",
    "test_all_dataloaders_direct()\n"
   ]
  },
  {
   "cell_type": "code",
   "execution_count": null,
   "id": "e7dc78b5",
   "metadata": {},
   "outputs": [],
   "source": []
  }
 ],
 "metadata": {
  "kernelspec": {
   "display_name": "torch",
   "language": "python",
   "name": "python3"
  },
  "language_info": {
   "codemirror_mode": {
    "name": "ipython",
    "version": 3
   },
   "file_extension": ".py",
   "mimetype": "text/x-python",
   "name": "python",
   "nbconvert_exporter": "python",
   "pygments_lexer": "ipython3",
   "version": "3.12.8"
  }
 },
 "nbformat": 4,
 "nbformat_minor": 5
}
